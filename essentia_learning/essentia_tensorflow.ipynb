{
 "cells": [
  {
   "cell_type": "code",
   "execution_count": 1,
   "id": "e546fb4d",
   "metadata": {},
   "outputs": [],
   "source": [
    "import essentia\n",
    "\n",
    "# there are two operating modes in essentia which (mostly) have the same algorithms\n",
    "# they are accessible via two submodules:\n",
    "import essentia.standard\n",
    "import essentia.streaming"
   ]
  }
 ],
 "metadata": {
  "kernelspec": {
   "display_name": ".venv",
   "language": "python",
   "name": "python3"
  },
  "language_info": {
   "codemirror_mode": {
    "name": "ipython",
    "version": 3
   },
   "file_extension": ".py",
   "mimetype": "text/x-python",
   "name": "python",
   "nbconvert_exporter": "python",
   "pygments_lexer": "ipython3",
   "version": "3.11.11"
  }
 },
 "nbformat": 4,
 "nbformat_minor": 5
}
