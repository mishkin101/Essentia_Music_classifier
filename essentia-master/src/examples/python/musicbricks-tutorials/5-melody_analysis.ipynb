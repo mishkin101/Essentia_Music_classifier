{
 "cells": [
  {
   "cell_type": "markdown",
   "metadata": {},
   "source": [
    "# Melody analysis - MusicBricks Tutorial"
   ]
  },
  {
   "cell_type": "markdown",
   "metadata": {},
   "source": [
    "## Introduction"
   ]
  },
  {
   "cell_type": "markdown",
   "metadata": {},
   "source": [
    "This tutorial will guide you through some tools for Melody Analysis using the Essentia library (http://www.essentia.upf.edu). Melody analysis tools will extract a pitch curve from a monophonic or polyphonic audio recording [1]. It  outputs a time series (sequence of values) with the instantaneous pitch value (in Hertz) of the perceived melody. \n",
    "We provide two different operation modes: \n",
    "   1) using executable binaries; \n",
    "   2) Using Python wrappers.  \n",
    "   \n",
    "   \n",
    "References:\n",
    "\n",
    "[1] J. Salamon and E. Gómez, \"Melody extraction from polyphonic music signals using pitch contour characteristics,\" IEEE Transactions on Audio, Speech, and Language Processing, vol. 20, no. 6, pp. 1759–1770, 2012.   \n"
   ]
  },
  {
   "cell_type": "markdown",
   "metadata": {},
   "source": [
    "## 1-Using executable binaries"
   ]
  },
  {
   "cell_type": "markdown",
   "metadata": {},
   "source": [
    "You can download the executable binaries for Linux (Ubuntu 14) and OSX in this link: http://tinyurl.com/melody-mbricks\n",
    "To execute the binaries you need to specify the input audio file and an output YAML file, where the melody values will be stored."
   ]
  },
  {
   "cell_type": "markdown",
   "metadata": {},
   "source": [
    "#### Extracting melody from monophonic audio"
   ]
  },
  {
   "cell_type": "markdown",
   "metadata": {},
   "source": [
    "Locate an audio file to be processed in WAV format (input_audiofile)."
   ]
  },
  {
   "cell_type": "markdown",
   "metadata": {},
   "source": [
    "Usage: ./streaming_pitchyinfft input_audiofile output_yamlfile "
   ]
  },
  {
   "cell_type": "markdown",
   "metadata": {},
   "source": [
    "#### Extracting melody from polyphonic audio"
   ]
  },
  {
   "cell_type": "markdown",
   "metadata": {},
   "source": [
    "Usage: ./streaming_predominantmelody input_audiofile output_yamlfile "
   ]
  },
  {
   "cell_type": "markdown",
   "metadata": {},
   "source": [
    "## 2-Using Python wrappers"
   ]
  },
  {
   "cell_type": "markdown",
   "metadata": {},
   "source": [
    "You should first install the Essentia library with Python bindings. Installation instructions are detailed here: http://essentia.upf.edu/documentation/installing.html . \n"
   ]
  },
  {
   "cell_type": "code",
   "execution_count": 7,
   "metadata": {},
   "outputs": [],
   "source": [
    "# import essentia in standard mode\n",
    "import essentia.standard as es\n",
    "\n",
    "# After importing Essentia library, let's import other plotting and numerical tools\n",
    "import matplotlib.pyplot as plt\n",
    "import numpy"
   ]
  },
  {
   "cell_type": "markdown",
   "metadata": {},
   "source": [
    "Load an audio file"
   ]
  },
  {
   "cell_type": "code",
   "execution_count": 12,
   "metadata": {},
   "outputs": [
    {
     "name": "stdout",
     "output_type": "stream",
     "text": [
      "Duration of the audio sample [sec]: 14.229\n"
     ]
    }
   ],
   "source": [
    "# create an audio loader and import audio file\n",
    "sample_rate = 44100\n",
    "audio = es.MonoLoader(filename='flamenco.wav', sampleRate=sample_rate)()\n",
    "print(f\"Duration of the audio sample [sec]: {len(audio) / sample_rate:.3f}\")\n"
   ]
  },
  {
   "cell_type": "markdown",
   "metadata": {},
   "source": [
    "Extract the pitch curve from the audio example"
   ]
  },
  {
   "cell_type": "code",
   "execution_count": 13,
   "metadata": {},
   "outputs": [],
   "source": [
    "# PitchMelodia takes the entire audio signal as input - no frame-wise processing is required here...\n",
    "pExt = es.PredominantPitchMelodia(frameSize=2048, hopSize=128)\n",
    "pitch, pitchConf = pExt(audio)\n",
    "time = numpy.linspace(0.0, len(audio) / sample_rate, len(pitch))"
   ]
  },
  {
   "cell_type": "markdown",
   "metadata": {},
   "source": [
    "Plot extracted pitch contour"
   ]
  },
  {
   "cell_type": "code",
   "execution_count": 16,
   "metadata": {},
   "outputs": [
    {
     "data": {
      "image/png": "[encoded data removed]",
      "text/plain": [
       "<Figure size 432x288 with 2 Axes>"
      ]
     },
     "metadata": {
      "needs_background": "light"
     },
     "output_type": "display_data"
    }
   ],
   "source": [
    "# plot the pitch contour and confidence over time\n",
    "f, axarr = plt.subplots(2, sharex=True)\n",
    "axarr[0].plot(time,pitch)\n",
    "axarr[0].set_title('estimated pitch[Hz]')\n",
    "axarr[1].plot(time,pitchConf)\n",
    "axarr[1].set_title('pitch confidence')\n",
    "plt.show()"
   ]
  },
  {
   "cell_type": "markdown",
   "metadata": {},
   "source": [
    "<img src=\"./figure_1.png\" width=\"600\">"
   ]
  }
 ],
 "metadata": {
  "kernelspec": {
   "display_name": "Python 3 (ipykernel)",
   "language": "python",
   "name": "python3"
  },
  "language_info": {
   "codemirror_mode": {
    "name": "ipython",
    "version": 3
   },
   "file_extension": ".py",
   "mimetype": "text/x-python",
   "name": "python",
   "nbconvert_exporter": "python",
   "pygments_lexer": "ipython3",
   "version": "3.10.4"
  }
 },
 "nbformat": 4,
 "nbformat_minor": 1
}
